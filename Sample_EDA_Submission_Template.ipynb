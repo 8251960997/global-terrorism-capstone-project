{
  "nbformat": 4,
  "nbformat_minor": 0,
  "metadata": {
    "colab": {
      "private_outputs": true,
      "provenance": [],
      "collapsed_sections": [
        "vncDsAP0Gaoa",
        "FJNUwmbgGyua",
        "w6K7xa23Elo4",
        "yQaldy8SH6Dl",
        "PH-0ReGfmX4f",
        "mDgbUHAGgjLW",
        "O_i_v8NEhb9l",
        "HhfV-JJviCcP",
        "Y3lxredqlCYt",
        "3RnN4peoiCZX",
        "x71ZqKXriCWQ",
        "7hBIi_osiCS2",
        "JlHwYmJAmNHm",
        "35m5QtbWiB9F",
        "PoPl-ycgm1ru",
        "H0kj-8xxnORC",
        "nA9Y7ga8ng1Z",
        "PBTbrJXOngz2",
        "u3PMJOP6ngxN",
        "dauF4eBmngu3",
        "bKJF3rekwFvQ",
        "MSa1f5Uengrz",
        "GF8Ens_Soomf",
        "0wOQAZs5pc--",
        "K5QZ13OEpz2H",
        "lQ7QKXXCp7Bj",
        "448CDAPjqfQr",
        "KSlN3yHqYklG",
        "t6dVpIINYklI",
        "ijmpgYnKYklI",
        "-JiQyfWJYklI",
        "EM7whBJCYoAo",
        "fge-S5ZAYoAp",
        "85gYPyotYoAp",
        "RoGjAbkUYoAp",
        "4Of9eVA-YrdM",
        "iky9q4vBYrdO",
        "F6T5p64dYrdO",
        "y-Ehk30pYrdP",
        "bamQiAODYuh1",
        "QHF8YVU7Yuh3",
        "GwzvFGzlYuh3",
        "qYpmQ266Yuh3",
        "OH-pJp9IphqM",
        "bbFf2-_FphqN",
        "_ouA3fa0phqN",
        "Seke61FWphqN",
        "PIIx-8_IphqN",
        "t27r6nlMphqO",
        "r2jJGEOYphqO",
        "b0JNsNcRphqO",
        "BZR9WyysphqO",
        "jj7wYXLtphqO",
        "eZrbJ2SmphqO",
        "rFu4xreNphqO",
        "YJ55k-q6phqO",
        "gCFgpxoyphqP",
        "OVtJsKN_phqQ",
        "lssrdh5qphqQ",
        "U2RJ9gkRphqQ",
        "1M8mcRywphqQ",
        "tgIPom80phqQ",
        "JMzcOPDDphqR",
        "x-EpHcCOp1ci",
        "X_VqEhTip1ck",
        "8zGJKyg5p1ck",
        "PVzmfK_Ep1ck",
        "n3dbpmDWp1ck",
        "ylSl6qgtp1ck",
        "ZWILFDl5p1ck",
        "M7G43BXep1ck",
        "Ag9LCva-p1cl",
        "E6MkPsBcp1cl",
        "2cELzS2fp1cl",
        "3MPXvC8up1cl",
        "NC_X3p0fY2L0",
        "UV0SzAkaZNRQ",
        "YPEH6qLeZNRQ",
        "q29F0dvdveiT",
        "EXh0U9oCveiU",
        "22aHeOlLveiV",
        "JcMwzZxoAimU",
        "8G2x9gOozGDZ",
        "gCX9965dhzqZ",
        "gIfDvo9L0UH2"
      ],
      "include_colab_link": true
    },
    "kernelspec": {
      "name": "python3",
      "display_name": "Python 3"
    },
    "language_info": {
      "name": "python"
    }
  },
  "cells": [
    {
      "cell_type": "markdown",
      "metadata": {
        "id": "view-in-github",
        "colab_type": "text"
      },
      "source": [
        "<a href=\"https://colab.research.google.com/github/8251960997/global-terrorism-capstone-project/blob/main/Sample_EDA_Submission_Template.ipynb\" target=\"_parent\"><img src=\"https://colab.research.google.com/assets/colab-badge.svg\" alt=\"Open In Colab\"/></a>"
      ]
    },
    {
      "cell_type": "markdown",
      "source": [
        "# **Project Name**    -\n",
        "\n"
      ],
      "metadata": {
        "id": "vncDsAP0Gaoa"
      }
    },
    {
      "cell_type": "markdown",
      "source": [
        "##### **Project Type**    - EDA\n",
        "##### **Contribution**    - Individual"
      ],
      "metadata": {
        "id": "beRrZCGUAJYm"
      }
    },
    {
      "cell_type": "markdown",
      "source": [
        "# **Project Summary -**"
      ],
      "metadata": {
        "id": "FJNUwmbgGyua"
      }
    },
    {
      "cell_type": "markdown",
      "source": [
        "Write the summary here within 500-600 words.\n",
        "Introduction:\n",
        " project, \"Exploring Global Terrorism: A Data-Driven Analysis,\" aims to unravel insights from the Global Terrorism Database (GTD) to enhance understanding and inform strategies related to terrorist incidents worldwide. Terrorism poses significant challenges to various sectors, and a data-driven approach is crucial for proactive decision-making and risk management.\n",
        "\n",
        " Project objectives:\n",
        "\n",
        " 1.Trend analysis -- We seek to analyze trends in terrorist activities, examining variables like attack types, targets, and casualties over time. This aids in anticipating changes and adapting security measures accordingly.\n",
        "\n",
        "2.Group Impact Assessment: Understand the impact of different terrorist groups by examining their activities, tactics, and targets for effective counterterrorism measures.\n",
        "\n",
        "3.Correlation Exploration: Explore relationships between variables like attack success, casualties, and specific attack types to gain a nuanced understanding of terrorism dynamics.\n",
        "\n",
        "\"Exploring Global Terrorism: A Data-Driven Analysis\" empowers businesses with actionable insights derived from comprehensive analysis of the GTD. By leveraging these insights, businesses can make informed decisions, enhance security measures, and navigate the challenges posed by terrorism. This project serves as a valuable resource for those seeking a proactive and data-driven approach to address the complexities associated with global terrorism.\n",
        "\n",
        "this project is based on database i did this project analysis very clearly and neatly its a base all global terrorism and activities if terrorist in this project terrorism is a very huge problem of whole world.Terrorist activities are increasing day by day so need to all of to find a right way to scare that.Everyone will have to work together on terrorism,only then it can be reduced.its a only one solution to deal this."
      ],
      "metadata": {
        "id": "F6v_1wHtG2nS"
      }
    },
    {
      "cell_type": "markdown",
      "source": [
        "# **GitHub Link -**"
      ],
      "metadata": {
        "id": "w6K7xa23Elo4"
      }
    },
    {
      "cell_type": "markdown",
      "source": [
        "Provide your GitHub Link here."
      ],
      "metadata": {
        "id": "h1o69JH3Eqqn"
      }
    },
    {
      "cell_type": "markdown",
      "source": [
        "# **Problem Statement**\n"
      ],
      "metadata": {
        "id": "yQaldy8SH6Dl"
      }
    },
    {
      "cell_type": "markdown",
      "source": [
        "Understanding global terrorism is crucial for effective security measures. The challenge is to analyze the extensive Global Terrorism Database (GTD) spanning 1970-2017. We aim to uncover patterns, trends, and correlations within the data to inform strategies for countering terrorism. This involves addressing issues like data quality, exploring attack types, identifying targeted areas, and visualizing the temporal evolution of terrorism worldwide.\n",
        "\n",
        "\n",
        "\n",
        "\n",
        "\n",
        "\n"
      ],
      "metadata": {
        "id": "DpeJGUA3kjGy"
      }
    },
    {
      "cell_type": "markdown",
      "source": [
        "#### **Define Your Business Objective?**"
      ],
      "metadata": {
        "id": "PH-0ReGfmX4f"
      }
    },
    {
      "cell_type": "markdown",
      "source": [
        "\"Strategic Insights: Navigating Global Terrorism for Secure Business Operations\""
      ],
      "metadata": {
        "id": "PhDvGCAqmjP1"
      }
    },
    {
      "cell_type": "markdown",
      "source": [
        "# **General Guidelines** : -  "
      ],
      "metadata": {
        "id": "mDgbUHAGgjLW"
      }
    },
    {
      "cell_type": "markdown",
      "source": [
        "1.   Well-structured, formatted, and commented code is required.\n",
        "2.   Exception Handling, Production Grade Code & Deployment Ready Code will be a plus. Those students will be awarded some additional credits.\n",
        "     \n",
        "     The additional credits will have advantages over other students during Star Student selection.\n",
        "       \n",
        "             [ Note: - Deployment Ready Code is defined as, the whole .ipynb notebook should be executable in one go\n",
        "                       without a single error logged. ]\n",
        "\n",
        "3.   Each and every logic should have proper comments.\n",
        "4. You may add as many number of charts you want. Make Sure for each and every chart the following format should be answered.\n",
        "        \n",
        "\n",
        "```\n",
        "# Chart visualization code\n",
        "```\n",
        "            \n",
        "\n",
        "*   Why did you pick the specific chart?\n",
        "*   What is/are the insight(s) found from the chart?\n",
        "* Will the gained insights help creating a positive business impact?\n",
        "Are there any insights that lead to negative growth? Justify with specific reason.\n",
        "\n",
        "5. You have to create at least 20 logical & meaningful charts having important insights.\n",
        "\n",
        "\n",
        "[ Hints : - Do the Vizualization in  a structured way while following \"UBM\" Rule.\n",
        "\n",
        "U - Univariate Analysis,\n",
        "\n",
        "B - Bivariate Analysis (Numerical - Categorical, Numerical - Numerical, Categorical - Categorical)\n",
        "\n",
        "M - Multivariate Analysis\n",
        " ]\n",
        "\n",
        "\n",
        "\n"
      ],
      "metadata": {
        "id": "ZrxVaUj-hHfC"
      }
    },
    {
      "cell_type": "markdown",
      "source": [
        "# ***Let's Begin !***"
      ],
      "metadata": {
        "id": "O_i_v8NEhb9l"
      }
    },
    {
      "cell_type": "markdown",
      "source": [
        "## ***1. Know Your Data***"
      ],
      "metadata": {
        "id": "HhfV-JJviCcP"
      }
    },
    {
      "cell_type": "markdown",
      "source": [
        "### Import Libraries"
      ],
      "metadata": {
        "id": "Y3lxredqlCYt"
      }
    },
    {
      "cell_type": "code",
      "source": [
        "import numpy as np\n",
        "import pandas as pd\n",
        "import matplotlib.pyplot as plt\n",
        "import seaborn as sns\n"
      ],
      "metadata": {
        "id": "M8Vqi-pPk-HR"
      },
      "execution_count": null,
      "outputs": []
    },
    {
      "cell_type": "markdown",
      "source": [
        "### Dataset Loading"
      ],
      "metadata": {
        "id": "3RnN4peoiCZX"
      }
    },
    {
      "cell_type": "code",
      "source": [
        "# Load Dataset\n",
        "from google.colab import drive\n",
        "drive.mount('/content/drive')\n",
        "\n"
      ],
      "metadata": {
        "id": "4CkvbW_SlZ_R"
      },
      "execution_count": null,
      "outputs": []
    },
    {
      "cell_type": "code",
      "source": [
        "dataset=pd.read_csv(r\"/content/drive/MyDrive/Global Terrorism Data.csv\",encoding='latin1')\n",
        "\n",
        "\n"
      ],
      "metadata": {
        "id": "IBzoa53QTvi3"
      },
      "execution_count": null,
      "outputs": []
    },
    {
      "cell_type": "markdown",
      "source": [
        "### Dataset First View"
      ],
      "metadata": {
        "id": "x71ZqKXriCWQ"
      }
    },
    {
      "cell_type": "code",
      "source": [
        "dataset.head()\n",
        "\n"
      ],
      "metadata": {
        "id": "LWNFOSvLl09H"
      },
      "execution_count": null,
      "outputs": []
    },
    {
      "cell_type": "markdown",
      "source": [
        "### Dataset Rows & Columns count"
      ],
      "metadata": {
        "id": "7hBIi_osiCS2"
      }
    },
    {
      "cell_type": "code",
      "source": [
        "# Dataset Rows & Columns count\n",
        "dataset.shape"
      ],
      "metadata": {
        "id": "Kllu7SJgmLij"
      },
      "execution_count": null,
      "outputs": []
    },
    {
      "cell_type": "markdown",
      "source": [
        "### Dataset Information"
      ],
      "metadata": {
        "id": "JlHwYmJAmNHm"
      }
    },
    {
      "cell_type": "code",
      "source": [
        "# Dataset Info\n",
        "dataset.info()"
      ],
      "metadata": {
        "id": "e9hRXRi6meOf"
      },
      "execution_count": null,
      "outputs": []
    },
    {
      "cell_type": "markdown",
      "source": [
        "#### Duplicate Values"
      ],
      "metadata": {
        "id": "35m5QtbWiB9F"
      }
    },
    {
      "cell_type": "code",
      "source": [
        "# Dataset Duplicate Value Count\n",
        "len(dataset[dataset.duplicated()])"
      ],
      "metadata": {
        "id": "1sLdpKYkmox0"
      },
      "execution_count": null,
      "outputs": []
    },
    {
      "cell_type": "markdown",
      "source": [
        "#### Missing Values/Null Values"
      ],
      "metadata": {
        "id": "PoPl-ycgm1ru"
      }
    },
    {
      "cell_type": "code",
      "source": [
        "# Missing Values/Null Values Count\n",
        "print(dataset.isnull().sum())"
      ],
      "metadata": {
        "id": "GgHWkxvamxVg"
      },
      "execution_count": null,
      "outputs": []
    },
    {
      "cell_type": "code",
      "source": [
        "# Visualizing the missing values\n",
        "sns.heatmap(dataset.isnull(), cbar=False)"
      ],
      "metadata": {
        "id": "3q5wnI3om9sJ"
      },
      "execution_count": null,
      "outputs": []
    },
    {
      "cell_type": "markdown",
      "source": [
        "### What did you know about your dataset?"
      ],
      "metadata": {
        "id": "H0kj-8xxnORC"
      }
    },
    {
      "cell_type": "markdown",
      "source": [
        "The dataset is given from global terrorism activities.and we have to analysis the global terrorism  and the insights behind it. the goal is understand to global terrorism activities and we will understand the global terrorist activities by this dataset .\n",
        "The above dataset has 181691 rows and 135 columns. There are no mising values and duplicate values in the dataset."
      ],
      "metadata": {
        "id": "gfoNAAC-nUe_"
      }
    },
    {
      "cell_type": "markdown",
      "source": [
        "## ***2. Understanding Your Variables***"
      ],
      "metadata": {
        "id": "nA9Y7ga8ng1Z"
      }
    },
    {
      "cell_type": "code",
      "source": [
        "# Dataset Columns\n",
        "list(dataset.columns)"
      ],
      "metadata": {
        "id": "j7xfkqrt5Ag5"
      },
      "execution_count": null,
      "outputs": []
    },
    {
      "cell_type": "code",
      "source": [
        "# Dataset Describe\n",
        "dataset.describe()"
      ],
      "metadata": {
        "id": "DnOaZdaE5Q5t"
      },
      "execution_count": null,
      "outputs": []
    },
    {
      "cell_type": "markdown",
      "source": [
        "### Variables Description"
      ],
      "metadata": {
        "id": "PBTbrJXOngz2"
      }
    },
    {
      "cell_type": "markdown",
      "source": [
        "                                  \n",
        " Event ID            -  Unique identifier for each terrorist event       \n",
        " Date                - Date of the incident                             \n",
        " Country             - Country where the incident occurred              \n",
        " Region              - Geographical region of the country               \n",
        " City                - City where the incident occurred                \n",
        " Latitude/Longitude  - Geographic coordinates of the incident           \n",
        " Attack Type         - Type of terrorist attack (e.g., Bombing)        \n",
        " Target Type         - Type of target (e.g., Government Building)       \n",
        " Group Name          - Name of the terrorist group responsible          \n",
        " Fatalities          - Number of fatalities in the incident             \n",
        " Injuries            - Number of injuries in the incident               "
      ],
      "metadata": {
        "id": "aJV4KIxSnxay"
      }
    },
    {
      "cell_type": "markdown",
      "source": [
        "### Check Unique Values for each variable."
      ],
      "metadata": {
        "id": "u3PMJOP6ngxN"
      }
    },
    {
      "cell_type": "code",
      "source": [
        "# Check Unique Values for each variable.\n",
        "for i in dataset.columns.tolist():\n",
        "  print(\"No. of unique values in \",i,\"is\",dataset[i].nunique(),\".\")"
      ],
      "metadata": {
        "id": "zms12Yq5n-jE"
      },
      "execution_count": null,
      "outputs": []
    },
    {
      "cell_type": "markdown",
      "source": [
        "## 3. ***Data Wrangling***"
      ],
      "metadata": {
        "id": "dauF4eBmngu3"
      }
    },
    {
      "cell_type": "markdown",
      "source": [
        "### Data Wrangling Code"
      ],
      "metadata": {
        "id": "bKJF3rekwFvQ"
      }
    },
    {
      "cell_type": "code",
      "source": [
        "import pandas as pd\n",
        "\n",
        "# Load the dataset\n",
        "gtd_data = pd.read_csv(r\"/content/drive/MyDrive/Global Terrorism Data.csv\",encoding='latin1')\n",
        "\n",
        "\n",
        "# Display basic information about the dataset\n",
        "print(\"Initial Dataset Info:\")\n",
        "print(gtd_data.info())\n",
        "\n",
        "# Handle missing values\n",
        "gtd_data = gtd_data.dropna()\n",
        "\n",
        "# Convert the 'iyear' column to datetime format\n",
        "gtd_data['iyear'] = pd.to_datetime(gtd_data['iyear'], format='%Y')\n",
        "\n",
        "# Extract year and month from the 'iyear' column\n",
        "gtd_data['year'] = gtd_data['iyear'].dt.year\n",
        "gtd_data['month'] = gtd_data['iyear'].dt.month\n",
        "\n",
        "# Drop unnecessary columns\n",
        "columns_to_drop = ['eventid', 'approxdate', 'resolution', 'provstate', 'city', 'specificity', 'vicinity']\n",
        "gtd_data = gtd_data.drop(columns=columns_to_drop)\n",
        "\n",
        "# Display updated dataset info\n",
        "print(\"\\nUpdated Dataset Info:\")\n",
        "print(gtd_data.info())\n",
        "\n",
        "# Save the cleaned dataset to a new CSV file\n",
        "gtd_data.to_csv(\"cleaned_global_terrorism_dataset.csv\", index=False)\n"
      ],
      "metadata": {
        "id": "l41w_kV6x6j2"
      },
      "execution_count": null,
      "outputs": []
    },
    {
      "cell_type": "code",
      "source": [
        "print('Country with most attacks: ',dataset['country_txt'].value_counts().idxmax())\n",
        "Country_with_most_attacks=dataset['country_txt'].value_counts().idxmax()\n",
        "dataset[dataset['country_txt']==Country_with_most_attacks]\n",
        "print('city with most attacks: ',dataset['city'].value_counts().idxmax())\n",
        "city_with_most_attacks=dataset['city'].value_counts().idxmax()\n",
        "\n",
        "print(\"Region with the most attacks:\",dataset['region_txt'].value_counts().idxmax())\n",
        "Region_with_the_most_attacks=dataset['region_txt'].value_counts().idxmax()\n",
        "\n",
        "print(\"Year with the most attacks:\",dataset['iyear'].value_counts().idxmax())\n",
        "Year_with_the_most_attacks=dataset['iyear'].value_counts().idxmax()\n",
        "\n",
        "print(\"Month with the most attacks:\",dataset['imonth'].value_counts().idxmax())\n",
        "Month_with_the_most_attacks=dataset['imonth'].value_counts().idxmax()\n",
        "\n",
        "print(\"Group with the most attacks:\",dataset['gname'].value_counts().index[1])\n",
        "Group_with_the_most_attacks=dataset['gname'].value_counts().index[1]\n",
        "\n",
        "print(\"Most Attack Types:\",dataset['attacktype1_txt'].value_counts().idxmax())\n",
        "Most_Attack_Types=dataset['attacktype1_txt'].value_counts().idxmax()\n",
        "\n",
        "\n",
        "\n",
        "\n"
      ],
      "metadata": {
        "id": "CWD80FRLz_xm"
      },
      "execution_count": null,
      "outputs": []
    },
    {
      "cell_type": "markdown",
      "source": [
        "### What all manipulations have you done and insights you found?"
      ],
      "metadata": {
        "id": "MSa1f5Uengrz"
      }
    },
    {
      "cell_type": "markdown",
      "source": [
        "I found is most country where is most happening most attacks Iraq is a most attacks country there is a terrorism impact is very highly.and the most attacks region is middle East and North Africa in the 2014 happened most attacks.most attack happened of Bombing and Explosion and this attacks responsiblity had Taliban . most attacks months 5 highest number of attacks have occurred in these five months."
      ],
      "metadata": {
        "id": "LbyXE7I1olp8"
      }
    },
    {
      "cell_type": "markdown",
      "source": [
        "## ***4. Data Vizualization, Storytelling & Experimenting with charts : Understand the relationships between variables***"
      ],
      "metadata": {
        "id": "GF8Ens_Soomf"
      }
    },
    {
      "cell_type": "markdown",
      "source": [
        "#### Chart - 1"
      ],
      "metadata": {
        "id": "0wOQAZs5pc--"
      }
    },
    {
      "cell_type": "code",
      "source": [
        "# chart - 1 visualize code\n",
        "top_countries_attacks = dataset['country_txt'].value_counts().head(10)\n",
        "\n",
        "plt.figure(figsize=(12, 6))\n",
        "sns.barplot(x=top_countries_attacks.index, y=top_countries_attacks.values, palette='viridis')\n",
        "plt.title('Top 10 Countries with the Highest Number of Terrorist Attacks')\n",
        "plt.xlabel('Country')\n",
        "plt.ylabel('Number of Attacks')\n",
        "plt.xticks(rotation=45, ha='right')\n",
        "plt.tight_layout()\n",
        "\n",
        "plt.show()\n"
      ],
      "metadata": {
        "id": "sTn_Pns6vy8L"
      },
      "execution_count": null,
      "outputs": []
    },
    {
      "cell_type": "markdown",
      "source": [
        "##### 1. Why did you pick the specific chart?"
      ],
      "metadata": {
        "id": "K5QZ13OEpz2H"
      }
    },
    {
      "cell_type": "markdown",
      "source": [
        "This chart is very helpful for visualize this data.bar chart is very efficient for clearly represent data.This chart is clearly representing top 10 countries with the highest number of terrorist attacks.highest attack that happened in Iraq."
      ],
      "metadata": {
        "id": "XESiWehPqBRc"
      }
    },
    {
      "cell_type": "markdown",
      "source": [
        "##### 2. What is/are the insight(s) found from the chart?"
      ],
      "metadata": {
        "id": "lQ7QKXXCp7Bj"
      }
    },
    {
      "cell_type": "markdown",
      "source": [
        "The bar chart on the top 10 countries with the highest number of terrorist attacks provides insights into the global distribution of such incidents. From the chart, one can observe which countries have experienced a high frequency of attacks, highlighting regions with heightened security concerns.these countries are afflicted the highest attcks."
      ],
      "metadata": {
        "id": "C_j1G7yiqdRP"
      }
    },
    {
      "cell_type": "markdown",
      "source": [
        "##### 3. Will the gained insights help creating a positive business impact?\n",
        "Are there any insights that lead to negative growth? Justify with specific reason."
      ],
      "metadata": {
        "id": "448CDAPjqfQr"
      }
    },
    {
      "cell_type": "markdown",
      "source": [
        "the insights bar graph are representing most attacked countries .where are happened the highest number of terrorist attacks in the Iraq that happened maximum attcks and in the turkey happened least attacks.In the iraq happened 25k attacks and in turkey happened less than 5k attacks.It is seen in the graph that terrorism attacks are highest in these countries."
      ],
      "metadata": {
        "id": "3cspy4FjqxJW"
      }
    },
    {
      "cell_type": "markdown",
      "source": [
        "#### Chart - 2"
      ],
      "metadata": {
        "id": "KSlN3yHqYklG"
      }
    },
    {
      "cell_type": "code",
      "source": [
        "# Chart - 2 visualization code\n",
        "x_year = dataset['iyear'].unique()\n",
        "y_year = dataset['iyear'].value_counts().sort_index()\n",
        "plt.figure(figsize=(10,5))\n",
        "plt.plot(x_year,y_year,'go-',linewidth=5)\n",
        "plt.xlabel('Names of The Year')\n",
        "plt.ylabel('Number of attacks')\n",
        "plt.show()"
      ],
      "metadata": {
        "id": "R4YgtaqtYklH"
      },
      "execution_count": null,
      "outputs": []
    },
    {
      "cell_type": "markdown",
      "source": [
        "##### 1. Why did you pick the specific chart?"
      ],
      "metadata": {
        "id": "t6dVpIINYklI"
      }
    },
    {
      "cell_type": "markdown",
      "source": [
        "Here i have used line chart this is showing the attacks that happen every year."
      ],
      "metadata": {
        "id": "5aaW0BYyYklI"
      }
    },
    {
      "cell_type": "markdown",
      "source": [
        "##### 2. What is/are the insight(s) found from the chart?"
      ],
      "metadata": {
        "id": "ijmpgYnKYklI"
      }
    },
    {
      "cell_type": "markdown",
      "source": [
        "There are line showing that attcks happening every year . here are the biggest attacks that happened after 2010.in 1970 that happened less than attacks."
      ],
      "metadata": {
        "id": "PSx9atu2YklI"
      }
    },
    {
      "cell_type": "markdown",
      "source": [
        "##### 3. Will the gained insights help creating a positive business impact?\n",
        "Are there any insights that lead to negative growth? Justify with specific reason."
      ],
      "metadata": {
        "id": "-JiQyfWJYklI"
      }
    },
    {
      "cell_type": "markdown",
      "source": [
        "Yes there is showing trend show about the happened attacks.and there is line chart shows that every year how many attacks happened after 2010 17500 attacks happend."
      ],
      "metadata": {
        "id": "BcBbebzrYklV"
      }
    },
    {
      "cell_type": "markdown",
      "source": [
        "#### Chart - 3"
      ],
      "metadata": {
        "id": "EM7whBJCYoAo"
      }
    },
    {
      "cell_type": "code",
      "source": [
        "# Chart - 3 visualization code\n",
        "import plotly.express as px\n",
        "group_killed= dataset[['country_txt','nkill']].groupby(['country_txt'],axis=0).sum().sort_values('nkill', ascending=False).head(15)\n",
        "group_killed.reset_index()\n",
        "data = dict(\n",
        "    stage=group_killed.index,\n",
        "    number=group_killed.nkill.values)\n",
        "fig = px.funnel(data, x='number', y='stage')\n",
        "fig.show()\n"
      ],
      "metadata": {
        "id": "t6GMdE67YoAp"
      },
      "execution_count": null,
      "outputs": []
    },
    {
      "cell_type": "markdown",
      "source": [
        "##### 1. Why did you pick the specific chart?"
      ],
      "metadata": {
        "id": "fge-S5ZAYoAp"
      }
    },
    {
      "cell_type": "markdown",
      "source": [
        "the funnel chart showing that how many people died in these countries in the iraq most people died.died people showing in the graph that how many people died in the s[ecific country."
      ],
      "metadata": {
        "id": "5dBItgRVYoAp"
      }
    },
    {
      "cell_type": "markdown",
      "source": [
        "##### 2. What is/are the insight(s) found from the chart?"
      ],
      "metadata": {
        "id": "85gYPyotYoAp"
      }
    },
    {
      "cell_type": "markdown",
      "source": [
        "there are showing country that most people died .78.589k peoples dies in the Iraq country .and in the Yemen country has the least number of deaths there are only 8777 peoples died."
      ],
      "metadata": {
        "id": "4jstXR6OYoAp"
      }
    },
    {
      "cell_type": "markdown",
      "source": [
        "##### 3. Will the gained insights help creating a positive business impact?\n",
        "Are there any insights that lead to negative growth? Justify with specific reason."
      ],
      "metadata": {
        "id": "RoGjAbkUYoAp"
      }
    },
    {
      "cell_type": "markdown",
      "source": [
        "yes there are showing stages of different different countries that how many peoples died in these countries it is giing positive numbers of died peoples ."
      ],
      "metadata": {
        "id": "zfJ8IqMcYoAp"
      }
    },
    {
      "cell_type": "markdown",
      "source": [
        "#### Chart - 4"
      ],
      "metadata": {
        "id": "4Of9eVA-YrdM"
      }
    },
    {
      "cell_type": "code",
      "source": [
        "# Chart - 4 visualization code\n",
        "most_common_attack_types = dataset['attacktype1_txt'].value_counts().head(10)\n",
        "\n",
        "plt.figure(figsize=(12, 6))\n",
        "sns.barplot(x=most_common_attack_types.values, y=most_common_attack_types.index, palette='viridis')\n",
        "plt.title('Top 10 Most Common Attack Types')\n",
        "plt.xlabel('Number of Attacks')\n",
        "plt.ylabel('Attack Type')\n",
        "plt.tight_layout()\n",
        "\n",
        "# Show the plot\n",
        "plt.show()\n"
      ],
      "metadata": {
        "id": "Y330Zahwy32n"
      },
      "execution_count": null,
      "outputs": []
    },
    {
      "cell_type": "markdown",
      "source": [
        "##### 2. What is/are the insight(s) found from the chart?"
      ],
      "metadata": {
        "id": "F6T5p64dYrdO"
      }
    },
    {
      "cell_type": "markdown",
      "source": [
        "this chart shows top 10 most common attacks type in this visualization maximum attacks that happend by bombing and explosion.Bar graph is vey suitable showing this its clearly showing most 5 common attacks type."
      ],
      "metadata": {
        "id": "Xx8WAJvtYrdO"
      }
    },
    {
      "cell_type": "markdown",
      "source": [
        "##### 3. Will the gained insights help creating a positive business impact?\n",
        "Are there any insights that lead to negative growth? Justify with specific reason."
      ],
      "metadata": {
        "id": "y-Ehk30pYrdP"
      }
    },
    {
      "cell_type": "markdown",
      "source": [
        "this is right chart for this visualization in this chart most common 10 attacks is available by bombing and explosion happened many attacks by bombing and explosion more than 80000 attacks occured its a huge quantity of attacks.in this chart verticaly showing attack type and horizontally showing number of attacks so this is showing insights growth.we can see easily that most 5 attacks by bombing/explosion ,armed assualt, assassination ,hostage taking(kiddnaping) ,infrastructure attack ."
      ],
      "metadata": {
        "id": "jLNxxz7MYrdP"
      }
    },
    {
      "cell_type": "markdown",
      "source": [
        "#### Chart - 5"
      ],
      "metadata": {
        "id": "bamQiAODYuh1"
      }
    },
    {
      "cell_type": "code",
      "source": [
        "# Chart - 5 visualization code\n",
        "group_wounding= dataset[['gname','nwound']].groupby(['gname'],axis=0).sum().sort_values('nwound', ascending=False).head(15)\n",
        "group_wounding.reset_index()\n",
        "import plotly.graph_objects as go\n",
        "\n",
        "fig = go.Figure(go.Waterfall(\n",
        "    name = \"20\", orientation = \"v\",\n",
        "    x = group_wounding.index,\n",
        "    y = group_wounding.nwound.values,\n",
        "    connector = {\"line\":{\"color\":\"rgb(63, 63, 63)\"}},\n",
        "))\n",
        "\n",
        "fig.update_layout(\n",
        "        title = \"Number of people wounded by each gang\",\n",
        "        showlegend = True\n",
        ")\n",
        "\n",
        "fig.show()"
      ],
      "metadata": {
        "id": "Kzr8SqHXomm3"
      },
      "execution_count": null,
      "outputs": []
    },
    {
      "cell_type": "markdown",
      "source": [
        "##### 2. What is/are the insight(s) found from the chart?"
      ],
      "metadata": {
        "id": "GwzvFGzlYuh3"
      }
    },
    {
      "cell_type": "markdown",
      "source": [
        "this graph showing the number of people wounded by each gang.there are any gangs by whom wounded of peoples. this graph is appropriate to show the wounded people and the gand that attacks maximum times.\n"
      ],
      "metadata": {
        "id": "uyqkiB8YYuh3"
      }
    },
    {
      "cell_type": "markdown",
      "source": [],
      "metadata": {
        "id": "yH0nHM2IyjRx"
      }
    },
    {
      "cell_type": "markdown",
      "source": [
        "##### 3. Will the gained insights help creating a positive business impact?\n",
        "Are there any insights that lead to negative growth? Justify with specific reason."
      ],
      "metadata": {
        "id": "qYpmQ266Yuh3"
      }
    },
    {
      "cell_type": "markdown",
      "source": [
        "yes this graph is showing positivity of wounded peoples and terrorist gang its showing clearly all."
      ],
      "metadata": {
        "id": "_WtzZ_hCYuh4"
      }
    },
    {
      "cell_type": "markdown",
      "source": [
        "#### Chart - 6"
      ],
      "metadata": {
        "id": "OH-pJp9IphqM"
      }
    },
    {
      "cell_type": "code",
      "source": [
        "# chart - 6 visualization code\n",
        "\n",
        "group_killed = dataset[['country_txt', 'nkill']].groupby(['country_txt'], axis=0).sum().sort_values('nkill', ascending=False).head(15)\n",
        "\n",
        "plt.subplots(figsize=(30, 15))\n",
        "plt.title('NUMBER OF PEOPLE KILLED IN EACH OF THE COUNTRIES')\n",
        "plt.xlabel('COUNTRIES')\n",
        "plt.ylabel('NUMBER OF KILLED')\n",
        "sns.barplot(x=group_killed.index, y=group_killed.nkill.values, palette=\"viridis\")\n",
        "\n",
        "plt.xticks(rotation=45, ha='right')\n",
        "\n",
        "plt.show()\n"
      ],
      "metadata": {
        "id": "yMNpu1em2eo6"
      },
      "execution_count": null,
      "outputs": []
    },
    {
      "cell_type": "markdown",
      "source": [
        "##### 2. What is/are the insight(s) found from the chart?"
      ],
      "metadata": {
        "id": "_ouA3fa0phqN"
      }
    },
    {
      "cell_type": "markdown",
      "source": [
        "this bar graph is showing number of people killed in the countries.maximum people killed in the Iraq in the Iraq killed people more than 75000 .its a huge number of killed people.its showing insigts graph."
      ],
      "metadata": {
        "id": "VECbqPI7phqN"
      }
    },
    {
      "cell_type": "markdown",
      "source": [
        "##### 3. Will the gained insights help creating a positive business impact?\n",
        "Are there any insights that lead to negative growth? Justify with specific reason."
      ],
      "metadata": {
        "id": "Seke61FWphqN"
      }
    },
    {
      "cell_type": "markdown",
      "source": [
        "the figure of people killed in attacks show that Iraw has the highest number of people killed in attacks .this graph show insights the highest number of people killed in Iraq and least in Yemen a lot of people have been killed due to the attack."
      ],
      "metadata": {
        "id": "DW4_bGpfphqN"
      }
    },
    {
      "cell_type": "markdown",
      "source": [
        "#### Chart - 7"
      ],
      "metadata": {
        "id": "PIIx-8_IphqN"
      }
    },
    {
      "cell_type": "code",
      "source": [
        "# Chart - 7 visualization code\n",
        "\n",
        "most_attacking_group = dataset['gname'].value_counts().idxmax()\n",
        "\n",
        "plt.figure(figsize=(12, 6))\n",
        "sns.countplot(x='gname', data=dataset[dataset['gname'] == most_attacking_group], palette='viridis')\n",
        "plt.title(f'Number of Attacks by the Most Attacking Group: {most_attacking_group}')\n",
        "plt.xlabel('Group Name')\n",
        "plt.ylabel('Number of Attacks')\n",
        "plt.xticks(rotation=45, ha='right')\n",
        "plt.tight_layout()\n",
        "\n",
        "plt.show()\n",
        "\n",
        "print(f\"The group with the most attacks is: {most_attacking_group}\")\n"
      ],
      "metadata": {
        "id": "lqAIGUfyphqO"
      },
      "execution_count": null,
      "outputs": []
    },
    {
      "cell_type": "markdown",
      "source": [
        "##### 1. Why did you pick the specific chart?"
      ],
      "metadata": {
        "id": "t27r6nlMphqO"
      }
    },
    {
      "cell_type": "markdown",
      "source": [
        "this graph is capable of identifying the group that attacks the most, hence this graph has been taken."
      ],
      "metadata": {
        "id": "iv6ro40sphqO"
      }
    },
    {
      "cell_type": "markdown",
      "source": [
        "##### 2. What is/are the insight(s) found from the chart?"
      ],
      "metadata": {
        "id": "r2jJGEOYphqO"
      }
    },
    {
      "cell_type": "markdown",
      "source": [
        "the insights of this graph is showing the group that attacks the most.The group that attacks the most in attacker in this graph the group is unknown.by the unknown group most attacked in the countries .80000 attacks have been done by unknown group."
      ],
      "metadata": {
        "id": "Po6ZPi4hphqO"
      }
    },
    {
      "cell_type": "markdown",
      "source": [
        "##### 3. Will the gained insights help creating a positive business impact?\n",
        "Are there any insights that lead to negative growth? Justify with specific reason."
      ],
      "metadata": {
        "id": "b0JNsNcRphqO"
      }
    },
    {
      "cell_type": "markdown",
      "source": [
        "this insights gained positive to shows unknown group attacks.maximum human killed by unknown group."
      ],
      "metadata": {
        "id": "xvSq8iUTphqO"
      }
    },
    {
      "cell_type": "markdown",
      "source": [
        "#### Chart - 8"
      ],
      "metadata": {
        "id": "BZR9WyysphqO"
      }
    },
    {
      "cell_type": "code",
      "source": [
        "# Chart - 8 visualization code\n",
        "\n",
        "monthly_data = dataset[['iyear', 'imonth', 'vicinity', 'nkill', 'targtype1_txt']]\n",
        "\n",
        "target_month = 1\n",
        "monthly_data = monthly_data[(monthly_data['imonth'] == target_month)]\n",
        "\n",
        "plt.figure(figsize=(12, 6))\n",
        "sns.countplot(x='targtype1_txt', data=monthly_data, hue='vicinity', palette='viridis')\n",
        "plt.title(f'Categories of People Killed in Month {target_month}')\n",
        "plt.xlabel('Target Type')\n",
        "plt.ylabel('Number of Killings')\n",
        "plt.xticks(rotation=45, ha='right')\n",
        "plt.legend(title='Vicinity', loc='upper right')\n",
        "plt.tight_layout()\n",
        "\n",
        "plt.show()\n"
      ],
      "metadata": {
        "id": "xU79fzsBFNgw"
      },
      "execution_count": null,
      "outputs": []
    },
    {
      "cell_type": "markdown",
      "source": [
        "##### 1. Why did you pick the specific chart?"
      ],
      "metadata": {
        "id": "jj7wYXLtphqO"
      }
    },
    {
      "cell_type": "markdown",
      "source": [
        "this is a bar graph showing the categories of people  who were killed over a period of month.this bar  graph is capable of showing categories of killed people hence the bar graph is taken.\n",
        "\n",
        "\n"
      ],
      "metadata": {
        "id": "Ob8u6rCTphqO"
      }
    },
    {
      "cell_type": "markdown",
      "source": [
        " 2. What is/are the insight(s) found from the chart?"
      ],
      "metadata": {
        "id": "eZrbJ2SmphqO"
      }
    },
    {
      "cell_type": "markdown",
      "source": [
        "the insights of the bar graph is that shows the number of peoples category that killed in the attacks . priavate citizens and property peoples are killed the highest in the attacks. the graph is vertically showing the number of killings and horizontally showing target type ."
      ],
      "metadata": {
        "id": "mZtgC_hjphqO"
      }
    },
    {
      "cell_type": "markdown",
      "source": [
        "#### Chart - 9"
      ],
      "metadata": {
        "id": "YJ55k-q6phqO"
      }
    },
    {
      "cell_type": "code",
      "source": [
        "#chart - 9 visualization code\n",
        "\n",
        "dataset['date'] = pd.to_datetime(dataset['iyear'].astype(str) + '-' + dataset['imonth'].astype(str), errors='coerce')\n",
        "\n",
        "attacks_by_month = dataset['date'].value_counts().sort_index()\n",
        "\n",
        "plt.figure(figsize=(15, 6))\n",
        "attacks_by_month.plot()\n",
        "plt.title('Number of Attacks Over Time')\n",
        "plt.xlabel('Time')\n",
        "plt.ylabel('Number of Attacks')\n",
        "plt.tight_layout()\n",
        "\n",
        "plt.show()\n"
      ],
      "metadata": {
        "id": "B2aS4O1ophqO"
      },
      "execution_count": null,
      "outputs": []
    },
    {
      "cell_type": "markdown",
      "source": [
        "##### 1. Why did you pick the specific chart?"
      ],
      "metadata": {
        "id": "gCFgpxoyphqP"
      }
    },
    {
      "cell_type": "markdown",
      "source": [
        "The chosen chart for analyzing the timing of terrorist attacks is a line chart.While other chart types could be considered depending on the specific analysis goals, a line chart is particularly well-suited for conveying the temporal aspects and trends associated with the frequency of terrorist attacks over time."
      ],
      "metadata": {
        "id": "TVxDimi2phqP"
      }
    },
    {
      "cell_type": "markdown",
      "source": [
        "##### 2. What is/are the insight(s) found from the chart?"
      ],
      "metadata": {
        "id": "OVtJsKN_phqQ"
      }
    },
    {
      "cell_type": "markdown",
      "source": [
        "The line chart reveals a fluctuating pattern in the number of terrorist attacks over the years. There is a noticeable rise in activity in certain periods, indicating potential clusters of increased violence. The chart provides a visual narrative of temporal trends.as the graph showing 1750 attacks over time."
      ],
      "metadata": {
        "id": "ngGi97qjphqQ"
      }
    },
    {
      "cell_type": "markdown",
      "source": [],
      "metadata": {
        "id": "o1BFuZbllGh8"
      }
    },
    {
      "cell_type": "markdown",
      "source": [
        "##### 3. Will the gained insights help creating a positive business impact?\n",
        "Are there any insights that lead to negative growth? Justify with specific reason."
      ],
      "metadata": {
        "id": "lssrdh5qphqQ"
      }
    },
    {
      "cell_type": "markdown",
      "source": [
        "The insights gained from the chart, showcasing temporal trends in terrorist activities, may not directly contribute to a positive business impact. However, this data could be valuable for businesses operating in regions affected by terrorism."
      ],
      "metadata": {
        "id": "tBpY5ekJphqQ"
      }
    },
    {
      "cell_type": "markdown",
      "source": [
        "#### Chart - 10"
      ],
      "metadata": {
        "id": "U2RJ9gkRphqQ"
      }
    },
    {
      "cell_type": "code",
      "source": [
        "# Chart - 10 visualization code\n",
        "weapons_count = dataset['weaptype1_txt'].value_counts()\n",
        "\n",
        "plt.figure(figsize=(12, 6))\n",
        "sns.barplot(x=weapons_count.index, y=weapons_count.values, palette='viridis')\n",
        "plt.title('Distribution of Weapons Used in Terrorist Attacks')\n",
        "plt.xlabel('Weapon Type')\n",
        "plt.ylabel('Number of Attacks')\n",
        "plt.xticks(rotation=45, ha='right')\n",
        "plt.tight_layout()\n",
        "\n",
        "plt.show()\n",
        "\n"
      ],
      "metadata": {
        "id": "GM7a4YP4phqQ"
      },
      "execution_count": null,
      "outputs": []
    },
    {
      "cell_type": "markdown",
      "source": [
        "##### 1. Why did you pick the specific chart?"
      ],
      "metadata": {
        "id": "1M8mcRywphqQ"
      }
    },
    {
      "cell_type": "markdown",
      "source": [
        "I chose a bar chart because it effectively displays the distribution of different weapon types in a clear and straightforward manner. Each bar represents a weapon type, making it easy to compare the frequency of use across different weapons, aiding in quick visual comprehension.\n",
        "\n",
        "\n",
        "\n",
        "\n",
        "\n",
        "\n",
        "\n"
      ],
      "metadata": {
        "id": "8agQvks0phqQ"
      }
    },
    {
      "cell_type": "markdown",
      "source": [
        "2. What is/are the insight(s) found from the chart?"
      ],
      "metadata": {
        "id": "tgIPom80phqQ"
      }
    },
    {
      "cell_type": "markdown",
      "source": [
        "The bar chart reveals insights into the distribution of weapon types used in terrorist attacks. It highlights the most prevalent weapons, providing valuable information for understanding the nature of these incidents. This insight can inform security measures, policy decisions, and international efforts aimed at countering terrorism."
      ],
      "metadata": {
        "id": "Qp13pnNzphqQ"
      }
    },
    {
      "cell_type": "markdown",
      "source": [
        "##### 3. Will the gained insights help creating a positive business impact?\n",
        "Are there any insights that lead to negative growth? Justify with specific reason."
      ],
      "metadata": {
        "id": "JMzcOPDDphqR"
      }
    },
    {
      "cell_type": "markdown",
      "source": [
        "the insights on the distribution of weapon types in terrorist attacks may not directly impact businesses positively. However, for companies operating in regions prone to such incidents, understanding prevalent weapons can inform security measures, ensuring employee safety. On the downside, if insights reveal an escalation in highly destructive weapons, it could pose risks, potentially leading to negative growth due to increased instability and operational challenges."
      ],
      "metadata": {
        "id": "R4Ka1PC2phqR"
      }
    },
    {
      "cell_type": "markdown",
      "source": [
        "#### Chart - 11"
      ],
      "metadata": {
        "id": "x-EpHcCOp1ci"
      }
    },
    {
      "cell_type": "code",
      "source": [
        "# Chart - 11 visualization code\n",
        "\n",
        "gang_kills = dataset.groupby('gname')['nkill'].sum().sort_values(ascending=False).head(15)\n",
        "\n",
        "plt.figure(figsize=(12, 6))\n",
        "sns.barplot(x=gang_kills.values, y=gang_kills.index, palette='viridis')\n",
        "plt.title('Top 15 Gangs by Number of Kills in Terrorist Attacks')\n",
        "plt.xlabel('Number of Kills')\n",
        "plt.ylabel('Gang Name')\n",
        "plt.tight_layout\n",
        "\n",
        "plt.show()\n"
      ],
      "metadata": {
        "id": "mAQTIvtqp1cj"
      },
      "execution_count": null,
      "outputs": []
    },
    {
      "cell_type": "markdown",
      "source": [
        "##### 1. Why did you pick the specific chart?"
      ],
      "metadata": {
        "id": "X_VqEhTip1ck"
      }
    },
    {
      "cell_type": "markdown",
      "source": [
        "I chose a horizontal bar chart to clearly present the relationship between gang names and the number of kills. This chart orientation allows for easy comparison of the number of kills associated with each gang. The length of each bar corresponds directly to the number of kills, providing a straightforward visual representation that facilitates quick insights into the most impactful gangs in terms of casualties.\n",
        "\n",
        "\n",
        "\n",
        "\n",
        "\n",
        "\n"
      ],
      "metadata": {
        "id": "-vsMzt_np1ck"
      }
    },
    {
      "cell_type": "markdown",
      "source": [
        " 2. What is/are the insight(s) found from the chart?"
      ],
      "metadata": {
        "id": "8zGJKyg5p1ck"
      }
    },
    {
      "cell_type": "markdown",
      "source": [
        "The horizontal bar chart illustrates the top gangs based on the total number of kills in terrorist attacks. Insights gleaned include identifying the most lethal groups, aiding in understanding the severity and impact of their activities. This information can be crucial for security assessments and policy considerations, especially in regions affected by these groups."
      ],
      "metadata": {
        "id": "ZYdMsrqVp1ck"
      }
    },
    {
      "cell_type": "markdown",
      "source": [
        "##### 3. Will the gained insights help creating a positive business impact?\n",
        "Are there any insights that lead to negative growth? Justify with specific reason."
      ],
      "metadata": {
        "id": "PVzmfK_Ep1ck"
      }
    },
    {
      "cell_type": "markdown",
      "source": [
        "insights include identifying the most lethal groups,aiding in understanding the severity and impact of their activities.the most highest attacks responsibility have unknown group then isil then taliban are most three groups who attacked maximum time and killed many people by them."
      ],
      "metadata": {
        "id": "druuKYZpp1ck"
      }
    },
    {
      "cell_type": "markdown",
      "source": [
        "#### Chart - 12"
      ],
      "metadata": {
        "id": "n3dbpmDWp1ck"
      }
    },
    {
      "cell_type": "code",
      "source": [
        "# chart - 12 visualization code\n",
        "\n",
        "last_20_years = dataset[dataset['iyear'] >= (pd.to_datetime('today').year - 20)]\n",
        "\n",
        "top_10_gangs = last_20_years['gname'].value_counts().head(10)\n",
        "\n",
        "plt.figure(figsize=(12, 6))\n",
        "sns.barplot(x=top_10_gangs.values, y=top_10_gangs.index, palette='viridis')\n",
        "plt.title('Top 10 Active Gangs in the Last 20 Years')\n",
        "plt.xlabel('Number of Attacks')\n",
        "plt.ylabel('Gang Name')\n",
        "plt.tight_layout()\n",
        "\n",
        "plt.show()\n"
      ],
      "metadata": {
        "id": "6236ejQWtLI1"
      },
      "execution_count": null,
      "outputs": []
    },
    {
      "cell_type": "markdown",
      "source": [
        "##### 1. Why did you pick the specific chart?"
      ],
      "metadata": {
        "id": "ylSl6qgtp1ck"
      }
    },
    {
      "cell_type": "markdown",
      "source": [
        "horizontal barr graph indicates the top 10 gangs in the last 20 years.the bar graph is efficient for visualize this data hence i picked horizontal bar graph and this is really helful."
      ],
      "metadata": {
        "id": "m2xqNkiQp1ck"
      }
    },
    {
      "cell_type": "markdown",
      "source": [
        "##### 2. What is/are the insight(s) found from the chart?"
      ],
      "metadata": {
        "id": "ZWILFDl5p1ck"
      }
    },
    {
      "cell_type": "markdown",
      "source": [
        "The bar graph insights that in the 20 years period of time most 10 active gangs are represented and represent number of attacks. In the period of time these are gangs highly active in 20 years.This information can be crucial for security assessments and policy considerations, especially in regions affected by these groups."
      ],
      "metadata": {
        "id": "x-lUsV2mp1ck"
      }
    },
    {
      "cell_type": "markdown",
      "source": [
        "##### 3. Will the gained insights help creating a positive business impact?\n",
        "Are there any insights that lead to negative growth? Justify with specific reason."
      ],
      "metadata": {
        "id": "M7G43BXep1ck"
      }
    },
    {
      "cell_type": "markdown",
      "source": [
        "The insights into the top 10 active gangs over the last 20 years may not directly contribute to a positive business impact. However, for companies operating in regions affected by these gangs, understanding their prominence can inform robust security measures, mitigating potential risks and ensuring the safety of operations.\n",
        "\n"
      ],
      "metadata": {
        "id": "5wwDJXsLp1cl"
      }
    },
    {
      "cell_type": "markdown",
      "source": [
        "#### Chart - 13"
      ],
      "metadata": {
        "id": "Ag9LCva-p1cl"
      }
    },
    {
      "cell_type": "code",
      "source": [
        "# chart - 13 visualization code\n",
        "\n",
        "top_regions_attacks = dataset['region_txt'].value_counts().head(5)\n",
        "\n",
        "plt.figure(figsize=(12, 6))\n",
        "region_attacks = pd.crosstab(dataset['iyear'], dataset['region_txt'])\n",
        "region_attacks.plot(kind='area', stacked=True, colormap='viridis', alpha=0.7, ax=plt.gca())\n",
        "plt.title('Distribution of Terrorist Attacks Across Regions Over the Years')\n",
        "plt.xlabel('Year')\n",
        "plt.ylabel('Number of Attacks')\n",
        "plt.legend(title='Region', loc='upper right')\n",
        "plt.tight_layout()\n",
        "\n",
        "plt.show()\n"
      ],
      "metadata": {
        "id": "WS4K32jYBFmg"
      },
      "execution_count": null,
      "outputs": []
    },
    {
      "cell_type": "markdown",
      "source": [
        "##### 1. Why did you pick the specific chart?"
      ],
      "metadata": {
        "id": "E6MkPsBcp1cl"
      }
    },
    {
      "cell_type": "markdown",
      "source": [
        "I chose a stacked area chart because it effectively illustrates the changing distribution of terrorist attacks across regions over time. The stacked layers represent different regions, and the chart's visual stacking makes it easy to observe both individual region trends and overall patterns, aiding in understanding geographical shifts in terrorism impact.\n",
        "\n",
        "\n",
        "\n",
        "\n",
        "\n",
        "\n"
      ],
      "metadata": {
        "id": "V22bRsFWp1cl"
      }
    },
    {
      "cell_type": "markdown",
      "source": [
        "##### 2. What is/are the insight(s) found from the chart?"
      ],
      "metadata": {
        "id": "2cELzS2fp1cl"
      }
    },
    {
      "cell_type": "markdown",
      "source": [
        "The stacked area chart reveals insights into the distribution of terrorist attacks across regions over the years. It highlights regions with consistent high activity and identifies any shifts in impact. This aids in understanding the changing geographical dynamics of terrorism.\n",
        "\n",
        "\n",
        "\n",
        "\n",
        "\n",
        "\n"
      ],
      "metadata": {
        "id": "ozQPc2_Ip1cl"
      }
    },
    {
      "cell_type": "markdown",
      "source": [
        "##### 3. Will the gained insights help creating a positive business impact?\n",
        "Are there any insights that lead to negative growth? Justify with specific reason."
      ],
      "metadata": {
        "id": "3MPXvC8up1cl"
      }
    },
    {
      "cell_type": "markdown",
      "source": [
        "The insights into regional distribution of terrorist attacks may indirectly impact businesses. Understanding high-risk regions can inform risk management strategies, ensuring the safety of operations. However, if insights indicate an increasing trend in a region critical for business, it may lead to negative growth due to heightened security concerns, potential disruptions, and reduced investor confidence.\n",
        "\n",
        "\n",
        "\n",
        "\n",
        "\n",
        "\n"
      ],
      "metadata": {
        "id": "GL8l1tdLp1cl"
      }
    },
    {
      "cell_type": "markdown",
      "source": [
        "#### Chart - 14 - Correlation Heatmap"
      ],
      "metadata": {
        "id": "NC_X3p0fY2L0"
      }
    },
    {
      "cell_type": "code",
      "source": [
        "# Correlation Heatmap visualization code\n",
        "\n",
        "correlation_data = dataset[['attacktype1', 'targtype1', 'nkill', 'nwound']]\n",
        "\n",
        "correlation_matrix = correlation_data.corr()\n",
        "\n",
        "plt.figure(figsize=(10, 8))\n",
        "sns.heatmap(correlation_matrix, annot=True, cmap='coolwarm', fmt=\".2f\", linewidths=.5)\n",
        "plt.title('Correlation Heatmap for Terrorism Incidents')\n",
        "plt.show()\n"
      ],
      "metadata": {
        "id": "xyC9zolEZNRQ"
      },
      "execution_count": null,
      "outputs": []
    },
    {
      "cell_type": "markdown",
      "source": [
        "##### 1. Why did you pick the specific chart?"
      ],
      "metadata": {
        "id": "UV0SzAkaZNRQ"
      }
    },
    {
      "cell_type": "markdown",
      "source": [
        "I chose a correlation heatmap because it visually represents the relationships between multiple variables in a concise and easily interpretable manner. The heatmap uses color intensity to indicate the strength and direction of correlations.its clearly represent correlation heatmap for terrorism incidents."
      ],
      "metadata": {
        "id": "DVPuT8LYZNRQ"
      }
    },
    {
      "cell_type": "markdown",
      "source": [
        " 2. What is/are the insight(s) found from the chart?"
      ],
      "metadata": {
        "id": "YPEH6qLeZNRQ"
      }
    },
    {
      "cell_type": "markdown",
      "source": [
        "The correlation heatmap provides insights into relationships among variables in terrorism incidents. It shows, for example, whether there's a positive correlation between certain attack types and casualty figures. Understanding these correlations helps identify potential patterns and factors influencing the severity of terrorist incidents."
      ],
      "metadata": {
        "id": "bfSqtnDqZNRR"
      }
    },
    {
      "cell_type": "markdown",
      "source": [
        "#### Chart - 15 - Pair Plot"
      ],
      "metadata": {
        "id": "q29F0dvdveiT"
      }
    },
    {
      "cell_type": "code",
      "source": [
        "# Pair Plot visualization code\n",
        "import pandas as pd\n",
        "import seaborn as sns\n",
        "import matplotlib.pyplot as plt\n",
        "\n",
        "# Assuming 'dataset' is the DataFrame containing the Global Terrorism Database\n",
        "\n",
        "# Select relevant columns for pair plot\n",
        "pair_plot_data = dataset[['nkill', 'nwound', 'success']]\n",
        "\n",
        "# Create a pair plot to visualize distributions and relationships\n",
        "sns.pairplot(pair_plot_data, hue='success', markers=['o', 's'], palette='Set1')\n",
        "plt.suptitle('Pair Plot for Kills, Wounds, and Success of Terrorist Attacks')\n",
        "plt.show()\n"
      ],
      "metadata": {
        "id": "o58-TEIhveiU"
      },
      "execution_count": null,
      "outputs": []
    },
    {
      "cell_type": "markdown",
      "source": [
        "##### 1. Why did you pick the specific chart?"
      ],
      "metadata": {
        "id": "EXh0U9oCveiU"
      }
    },
    {
      "cell_type": "markdown",
      "source": [
        "I chose a pair plot because it allows for a comprehensive exploration of relationships between multiple variables in a single visualization.a pair plot enables the simultaneous examination of distributions and correlations."
      ],
      "metadata": {
        "id": "eMmPjTByveiU"
      }
    },
    {
      "cell_type": "markdown",
      "source": [
        "##### 2. What is/are the insight(s) found from the chart?"
      ],
      "metadata": {
        "id": "22aHeOlLveiV"
      }
    },
    {
      "cell_type": "markdown",
      "source": [
        "The pair plot reveals insights into the relationships between key variables in terrorist incidents. It indicates whether there are discernible patterns or differences in distributions related to the number of kills, wounds, and the success of attacks. Analyzing these visual patterns aids in understanding potential correlations and factors influencing the outcomes of terrorist incidents.\n",
        "\n",
        "\n",
        "\n",
        "\n",
        "\n",
        "\n"
      ],
      "metadata": {
        "id": "uPQ8RGwHveiV"
      }
    },
    {
      "cell_type": "markdown",
      "source": [
        "## **5. Solution to Business Objective**"
      ],
      "metadata": {
        "id": "JcMwzZxoAimU"
      }
    },
    {
      "cell_type": "markdown",
      "source": [
        "#### What do you suggest the client to achieve Business Objective ?\n",
        "Explain Briefly."
      ],
      "metadata": {
        "id": "8G2x9gOozGDZ"
      }
    },
    {
      "cell_type": "markdown",
      "source": [
        "the client to acheive Business objective our motive to safe regions.to enhence the business objective of ensuring safety and continuity in regions prone to terrorism.who rigions that prone to terrorism safe to them and reaches safety assets.implementing a robust risk management strategy.the analysis of terrorism data to inform security measures.and suggest to prone rigions live to safe and secure and help them by tools and materials.\n",
        "\n",
        "\n",
        "\n",
        "\n",
        "\n",
        "\n"
      ],
      "metadata": {
        "id": "pASKb0qOza21"
      }
    },
    {
      "cell_type": "markdown",
      "source": [
        "# **Conclusion**"
      ],
      "metadata": {
        "id": "gCX9965dhzqZ"
      }
    },
    {
      "cell_type": "markdown",
      "source": [
        "In conclusion, analyzing terrorism data provides valuable insights for businesses. Understanding where and how terrorist incidents occur helps in planning and implementing effective security measures. By staying informed about trends and patterns, businesses can proactively protect their operations and, most importantly, the safety of their people. This data-driven approach supports a resilient and secure business environment.Terrorism is a very big problems in the whole world its a very dangerous for all so we must to find way to deal with this.Helping those who are suffering from terrorism.\n",
        "In the dataset Iraq is a most attacked country.And by the unknown group killed maximum peoples.by this group 80k did highest attacks.And western urope is most affected rigion by terrorist attacks.And in the Iraq 75.589k people died in the terrorist attacks.so its a very scary situation ,so one should always find a way to escape from it.\n",
        "\n",
        "\n",
        "\n",
        "\n",
        "\n",
        "\n",
        "\n",
        "\n",
        "\n",
        "\n",
        "\n",
        "\n",
        "\n",
        "\n",
        "\n",
        "\n",
        "\n",
        "\n",
        "\n",
        "\n",
        "\n",
        "\n",
        "\n"
      ],
      "metadata": {
        "id": "Fjb1IsQkh3yE"
      }
    },
    {
      "cell_type": "markdown",
      "source": [
        "### ***Hurrah! You have successfully completed your EDA Capstone Project !!!***"
      ],
      "metadata": {
        "id": "gIfDvo9L0UH2"
      }
    }
  ]
}